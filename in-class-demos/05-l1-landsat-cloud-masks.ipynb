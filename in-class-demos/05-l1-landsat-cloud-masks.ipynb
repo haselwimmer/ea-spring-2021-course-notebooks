{
 "cells": [
  {
   "cell_type": "markdown",
   "metadata": {},
   "source": [
    "# Introduction to Cloud Masks\n",
    "\n",
    "Note that this  lesson is just an overview of cloud masking. We are not using the data\n",
    "that you will use in your homework for this week. \n",
    "\n",
    "\n",
    "## About Landsat Scenes\n",
    "\n",
    "Landsat satellites orbit the earth continuously collecting images of the Earth's\n",
    "surface. These images, are divided into smaller regions - known as scenes.\n",
    "\n",
    "> Landsat images are usually divided into scenes for easy downloading. Each\n",
    "> Landsat scene is about 115 miles long and 115 miles wide (or 100 nautical\n",
    "> miles long and 100 nautical miles wide, or 185 kilometers long and 185 kilometers wide). -*wikipedia*\n",
    "\n",
    "\n",
    "### Challenges Working with Landsat Remote Sensing Data\n",
    "\n",
    "In the previous lessons, you learned how to import a set of geotiffs that made\n",
    "up the bands of a Landsat raster. Each geotiff file was a part of a Landsat scene,\n",
    "that had been downloaded for this class by your instructor. The scene was further\n",
    "cropped to reduce the file size for the class.\n",
    "\n",
    "You ran into some challenges when you began to work with the data. The biggest\n",
    "problem was a large cloud and associated shadow that covered your study\n",
    "area of interest - the Cold Springs fire burn scar.\n",
    "\n",
    "### Work with Clouds, Shadows and Bad Pixels in Remote Sensing Data\n",
    "\n",
    "Clouds and atmospheric conditions present a significant challenge when working\n",
    "with multispectral remote sensing data. Extreme cloud cover and shadows can make\n",
    "the data in those areas, un-usable given reflectance values are either washed out\n",
    "(too bright - as the clouds scatter all light back to the sensor) or are too\n",
    "dark (shadows which represent blocked or absorbed light).\n",
    "\n",
    "In this lesson you will learn how to deal with clouds in your remote sensing data.\n",
    "There is no perfect solution of course. You will just learn one approach.\n",
    "\n"
   ]
  },
  {
   "cell_type": "code",
   "execution_count": null,
   "metadata": {},
   "outputs": [],
   "source": [
    "import os\n",
    "from glob import glob\n",
    "\n",
    "import matplotlib.pyplot as plt\n",
    "from matplotlib import patches as mpatches, colors # you won't need this for your homework!\n",
    "import seaborn as sns\n",
    "import numpy as np\n",
    "from numpy import ma\n",
    "import xarray as xr\n",
    "import rioxarray as rxr\n",
    "import earthpy as et\n",
    "import earthpy.plot as ep\n",
    "import earthpy.mask as em\n",
    "\n",
    "# Prettier plotting with seaborn\n",
    "sns.set_style('white')\n",
    "sns.set(font_scale=1.5)\n",
    "\n",
    "# Download data and set working directory\n",
    "data = et.data.get_data('cold-springs-fire')\n",
    "os.chdir(os.path.join(et.io.HOME,\n",
    "                      'earth-analytics',\n",
    "                      'data'))"
   ]
  },
  {
   "cell_type": "markdown",
   "metadata": {},
   "source": [
    "Next, you will load and plot landsat data. If you are completing the earth analytics course, you have worked with these data already in your homework. \n",
    "\n",
    "HINT: Since we are only using the RGB and the NIR bands for this exercise, you can use `*band[2-5]*.tif` inside `glob` to filter just the needed bands. This will save a lot of time in processing since you will only be using the data you need. \n"
   ]
  },
  {
   "cell_type": "code",
   "execution_count": null,
   "metadata": {},
   "outputs": [],
   "source": [
    "def combine_tifs(tif_list):\n",
    "    \"\"\"A function that combines a list of tifs in the same CRS\n",
    "    and of the same extent into an xarray object\n",
    "\n",
    "    Parameters\n",
    "    ----------\n",
    "    tif_list : list\n",
    "        A list of paths to the tif files that you wish to combine.\n",
    "        \n",
    "    Returns\n",
    "    -------\n",
    "    An xarray object with all of the tif files in the listmerged into \n",
    "    a single object.\n",
    "\n",
    "    \"\"\"\n",
    "\n",
    "    out_xr=[]\n",
    "    for i, tif_path in enumerate(tif_list):\n",
    "        out_xr.append(rxr.open_rasterio(tif_path, masked=True).squeeze())\n",
    "        out_xr[i][\"band\"]=i+1\n",
    "     \n",
    "    return xr.concat(out_xr, dim=\"band\") "
   ]
  },
  {
   "cell_type": "markdown",
   "metadata": {},
   "source": [
    "## Cloud Cover and Remote Sensing Data\n",
    "\n",
    "Think about the image below. What will NDVI values tell you in areas \n",
    "that are covered by clouds?\n",
    "\n",
    "Now think more about how cloud cover may impact a mean NDVI  value for an area."
   ]
  },
  {
   "cell_type": "code",
   "execution_count": null,
   "metadata": {
    "caption": "RGB Landsat image for the Cold Springs fire area with a cloud blocking part of the image."
   },
   "outputs": [],
   "source": [
    "landsat_paths_pre_path = os.path.join(\"cold-springs-fire\",\n",
    "                                      \"landsat_collect\",\n",
    "                                      \"LC080340322016070701T1-SC20180214145604\",\n",
    "                                      \"crop\",\n",
    "                                      \"*band[2-5]*.tif\")\n",
    "\n",
    "landsat_paths_pre = sorted(glob(landsat_paths_pre_path))\n",
    "\n",
    "landsat_pre = combine_tifs(landsat_paths_pre)\n",
    "\n",
    "# Notice there is a large cloud covering  part of the scene\n",
    "ep.plot_rgb(landsat_pre.values,\n",
    "            rgb=[2, 1, 0],\n",
    "            title=\"Landsat True Color Composite Image | 30 meters \\n Post Cold Springs Fire \\n July 8, 2016\")\n",
    "\n",
    "plt.show()"
   ]
  },
  {
   "cell_type": "markdown",
   "metadata": {},
   "source": [
    "Notice in the data above there is a large cloud in your scene. This cloud will impact any quantitative analysis that you perform on the data. You can remove cloudy pixels using a mask. Masking \"bad\" pixels:\n",
    "\n",
    "1. Allows you to remove them from any quantitative analysis that you may perform such as calculating NDVI. \n",
    "2. Allows you to replace them (if you want) with better pixels from another scene. This replacement if often performed when performing time series analysis of data. The following lesson will teach you have to replace pixels in a scene. \n",
    "\n",
    "## Cloud Masks in Python\n",
    "\n",
    "You can use the cloud mask layer to identify pixels that are likely to be clouds\n",
    "or shadows. You can then set those pixel values to `masked` so they are not included in\n",
    "your quantitative analysis in Python.\n",
    "\n",
    "When you say \"mask\", you are talking about a layer that \"turns off\" or sets to `nan`,\n",
    "the values of pixels in a raster that you don't want to include in an analysis.\n",
    "It's very similar to setting data points that equal -9999 to `nan` in a time series\n",
    "data set. You are just doing it with spatial raster data instead.\n",
    "\n",
    "<figure>\n",
    "    <a href=\"{{ site.url }}/images/earth-analytics/raster-data/raster_masks.jpg\">\n",
    "    <img src=\"{{ site.url }}/images/earth-analytics/raster-data/raster_masks.jpg\" alt=\"Raster masks\">\n",
    "    </a>\n",
    "\n",
    "    <figcaption>When you use a raster mask, you are defining what pixels you want to exclude from a quantitative analysis. Notice in this image, the raster max is simply a layer that contains values of 1 (use these pixels) and values of NA (exclude these pixels). If the raster is the same extent and spatial resolution as your remote sensing data (in this case your landsat raster stack) you can then mask ALL PIXELS that occur at the spatial location of clouds and shadows (represented by an NA in the image above). Source: Colin Williams (NEON)\n",
    "    </figcaption>\n",
    "</figure>\n"
   ]
  },
  {
   "cell_type": "markdown",
   "metadata": {},
   "source": [
    "## Raster Masks for Remote Sensing Data\n",
    "\n",
    "Many remote sensing data sets come with quality layers that you can use as a mask \n",
    "to remove \"bad\" pixels from your analysis. In the case of Landsat, the mask layers\n",
    "identify pixels that are likely representative of cloud cover, shadow and even water. \n",
    "When you download Landsat 8 data from Earth Explorer, the data came with a processed \n",
    "cloud shadow / mask raster layer called `landsat_file_name_pixel_qa.tif`.\n",
    "Just replace the name of your Landsat scene with the text landsat_file_name above. \n",
    "For this class the layer is:\n",
    "\n",
    "`LC80340322016189-SC20170128091153/crop/LC08_L1TP_034032_20160707_20170221_01_T1_pixel_qa_crop.tif`\n",
    "\n",
    "You will explore using this pixel quality assurance (QA) layer, next. To begin, open\n",
    "the `pixel_qa` layer using rioxarray and plot it with matplotlib.\n"
   ]
  },
  {
   "cell_type": "code",
   "execution_count": null,
   "metadata": {},
   "outputs": [],
   "source": [
    "# Open the landsat qa layer\n",
    "landsat_pre_cl_path = os.path.join(\"cold-springs-fire\",\n",
    "                                   \"landsat_collect\",\n",
    "                                   \"LC080340322016070701T1-SC20180214145604\",\n",
    "                                   \"crop\",\n",
    "                                   \"LC08_L1TP_034032_20160707_20170221_01_T1_pixel_qa_crop.tif\")\n",
    "\n",
    "landsat_qa = rxr.open_rasterio(landsat_pre_cl_path).squeeze()"
   ]
  },
  {
   "cell_type": "markdown",
   "metadata": {},
   "source": [
    "This is just a demo for you to see what the cloud  mask layer looks like.\n",
    "\n",
    "YOU DON'T NEED THIS CODE FOR YOUR HOMEWORK. Just look at the output plot"
   ]
  },
  {
   "cell_type": "code",
   "execution_count": null,
   "metadata": {
    "caption": "Landsat Collection Pixel QA layer for the Cold Springs fire area."
   },
   "outputs": [],
   "source": [
    "# This is optional code to plot the qa layer - don't worry too much about the details.\n",
    "# Create a colormap with 11 colors\n",
    "cmap = plt.cm.get_cmap('tab20b', 11)\n",
    "# Get a list of unique values in the qa layer\n",
    "vals = np.unique(landsat_qa).tolist()\n",
    "bins = [0] + vals\n",
    "# Normalize the colormap\n",
    "bounds = [((a + b) / 2) for a, b in zip(bins[:-1], bins[1::1])] + \\\n",
    "    [(bins[-1] - bins[-2]) + bins[-1]]\n",
    "norm = colors.BoundaryNorm(bounds, cmap.N)\n",
    "\n",
    "# Plot the data\n",
    "fig, ax = plt.subplots(figsize=(12, 8))\n",
    "\n",
    "im = ax.imshow(landsat_qa,\n",
    "               cmap=cmap,\n",
    "               norm=norm)\n",
    "\n",
    "ep.draw_legend(im,\n",
    "               classes=vals,\n",
    "               cmap=cmap, titles=vals)\n",
    "\n",
    "ax.set_title(\"Landsat Collection Quality Assessment Layer\")\n",
    "ax.set_axis_off()\n",
    "plt.show()"
   ]
  },
  {
   "cell_type": "markdown",
   "metadata": {},
   "source": [
    "In the image above, you can see the cloud and the shadow that is obstructing our landsat image.\n",
    "Unfortunately for you, this cloud covers a part of your analysis area in the Cold Springs\n",
    "Fire location. There are a few ways to handle this issue. We will look at one:\n",
    "simply masking out or removing the cloud for your analysis, first. \n",
    "\n",
    "To remove all pixels that are cloud and cloud shadow covered we need to first\n",
    "determine what each value in our qa raster represents. The table below is from the USGS landsat website.\n",
    "It describes what all of the values in the pixel_qa layer represent.\n",
    "\n",
    "We are interested in \n",
    "\n",
    "1. cloud shadow\n",
    "2. cloud and \n",
    "3. high confidence cloud\n",
    "\n",
    "Note that your specific analysis may require a different set of masked pixels. For instance, your analysis may \n",
    "require you identify pixels that are low confidence clouds too. We are just using these classes\n",
    "for the purpose of this class. \n",
    "\n",
    "\n",
    "| Attribute                | Pixel Value                                                     | \n",
    "|--------------------------|-----------------------------------------------------------------| \n",
    "| Fill                     | 1                                                               | \n",
    "| Clear                    | 322, 386, 834, 898, 1346                                        | \n",
    "| Water                    | 324, 388, 836, 900, 1348                                        | \n",
    "| Cloud Shadow             | 328, 392, 840, 904, 1350                                        | \n",
    "| Snow/Ice                 | 336, 368, 400, 432, 848, 880, 912, 944, 1352                    | \n",
    "| Cloud                    | 352, 368, 416, 432, 480, 864, 880, 928, 944, 992                | \n",
    "| Low confidence cloud     | 322, 324, 328, 336, 352, 368, 834, 836, 840, 848, 864, 880      | \n",
    "| Medium confidence cloud  | 386, 388, 392, 400, 416, 432, 900, 904, 928, 944                | \n",
    "| High confidence cloud    | 480, 992                                                        | \n",
    "| Low confidence cirrus    | 322, 324, 328, 336, 352, 368, 386, 388, 392, 400, 416, 432, 480 | \n",
    "| High confidence cirrus   | 834, 836, 840, 848, 864, 880, 898, 900, 904, 912, 928, 944, 992 | \n",
    "| Terrain occlusion        | 1346, 1348, 1350, 1352                                          | \n",
    "==|\n",
    "\n",
    "To better understand the values above, create a better map of the data. To do that you will:\n",
    "\n",
    "1. classify the data into x classes where x represents the total number of unique values in the `pixel_qa` raster.\n",
    "2. plot the data using these classes.\n",
    "\n",
    "We are reclassifying the data because matplotlib colormaps will assign colors to values along a continuous gradient.\n",
    "Reclassifying the data allows us to enforce one color for each unique value in our data. \n"
   ]
  },
  {
   "cell_type": "markdown",
   "metadata": {},
   "source": [
    "This next section shows you how to create a mask using the xarray function `isin()` to create a binary cloud mask layer. In this mask all pixels that you wish to remove from your analysis or mask will be set to `1`. All other pixels which represent pixels you want to use in your analysis will be set to `0`."
   ]
  },
  {
   "cell_type": "code",
   "execution_count": null,
   "metadata": {},
   "outputs": [],
   "source": [
    "# You can grab the cloud pixel values from earthpy\n",
    "high_cloud_confidence = em.pixel_flags[\"pixel_qa\"][\"L8\"][\"High Cloud Confidence\"]\n",
    "cloud = em.pixel_flags[\"pixel_qa\"][\"L8\"][\"Cloud\"]\n",
    "cloud_shadow = em.pixel_flags[\"pixel_qa\"][\"L8\"][\"Cloud Shadow\"]\n",
    "\n",
    "all_masked_values = cloud_shadow + cloud + high_cloud_confidence\n",
    "all_masked_values"
   ]
  },
  {
   "cell_type": "code",
   "execution_count": null,
   "metadata": {},
   "outputs": [],
   "source": [
    "# This is using a the isin function to create a binary cloud mask\n",
    "# You don't need to do this in your workflow as you can perform the mask in one step\n",
    "# But we have it here for demonstration purposes\n",
    "cl_mask = landsat_qa.isin(all_masked_values)\n",
    "np.unique(cl_mask)"
   ]
  },
  {
   "cell_type": "markdown",
   "metadata": {},
   "source": [
    "Below is the plot of the reclassified raster mask created from the `_create_mask` helper function.\n",
    "You can think of this as creating a raster layer that is true / false"
   ]
  },
  {
   "cell_type": "code",
   "execution_count": null,
   "metadata": {
    "caption": "Landsat image in which the masked pixels (cloud) are rendered in light purple.",
    "tags": [
     "hide"
    ]
   },
   "outputs": [],
   "source": [
    "fig, ax = plt.subplots(figsize=(12, 8))\n",
    "\n",
    "im = ax.imshow(cl_mask,\n",
    "               cmap=plt.cm.get_cmap('tab20b', 2))\n",
    "\n",
    "cbar = ep.colorbar(im)\n",
    "cbar.set_ticks((0.25, .75))\n",
    "cbar.ax.set_yticklabels([\"Clear Pixels\", \"Cloud / Shadow Pixels\"])\n",
    "\n",
    "ax.set_title(\"Landsat Cloud Mask | Light Purple Pixels will be Masked\")\n",
    "ax.set_axis_off()\n",
    "\n",
    "plt.show()"
   ]
  },
  {
   "cell_type": "markdown",
   "metadata": {},
   "source": [
    "## What Does the Metadata Tell You?\n",
    "\n",
    "You just explored two layers that potentially have information about cloud cover.\n",
    "However what do the values stored in those rasters mean? You can refer to the\n",
    "metadata provided by USGS to learn more about how\n",
    "each layer in your landsat dataset are both stored and calculated.\n",
    "\n",
    "When you download remote sensing data, often (but not always), you will find layers\n",
    "that tell us more about the error and uncertainty in the data. Often whomever\n",
    "created the data will do some of the work for us to detect where clouds and\n",
    "shadows are - given they are common challenges that you need to work around when\n",
    "using remote sensing data.\n",
    "\n",
    "\n",
    "### Create Mask Layer in Python\n",
    "\n",
    "To create the mask this you do the following:\n",
    "\n",
    "1. Make sure you use a raster layer for the mask that is the SAME EXTENT and the same pixel resolution as your landsat scene. In this case you have a mask layer that is already the same spatial resolution and extent as your landsat scene.\n",
    "2. Set all of the values in that layer that are clouds and / or shadows to `True`\n",
    "3. Finally you use the `where` function to apply the mask layer to the xarray DataArray (or the landsat scene that you are working with in Python).  all pixel locations that were flagged as clouds or shadows in your mask to `NA` in your `raster` or in this case `rasterstack`.\n",
    "\n",
    "## Mask A Landsat Scene Using Xarray\n",
    "Below you mask your data in one single step. This function `.where()` applies the mask you created above to your xarray DataArray. To apply the mask, ensure you put a `~` in front of your mask inside the `where()` function. This must be done because `isin()` creates the mask with `True` values where we want `False`, values, and vice versa. The `~` flips all of the values inside the array."
   ]
  },
  {
   "cell_type": "code",
   "execution_count": null,
   "metadata": {},
   "outputs": [],
   "source": [
    "# Call the  mask function using your mask layer\n",
    "landsat_pre_cl_free = landsat_pre.where(~cl_mask)"
   ]
  },
  {
   "cell_type": "code",
   "execution_count": null,
   "metadata": {
    "tags": [
     "hide"
    ]
   },
   "outputs": [],
   "source": [
    "\n",
    "# Create and View Cloud Mask\n",
    "high_cloud_confidence = em.pixel_flags[\"pixel_qa\"][\"L8\"][\"High Cloud Confidence\"]\n",
    "cloud = em.pixel_flags[\"pixel_qa\"][\"L8\"][\"Cloud\"]\n",
    "cloud_shadow = em.pixel_flags[\"pixel_qa\"][\"L8\"][\"Cloud Shadow\"]\n",
    "\n",
    "all_masked_values = cloud_shadow + cloud + high_cloud_confidence\n",
    "\n",
    "# Mask the data using xarray.where - This essentially tells python to set any \n",
    "# values where the two rasters overlay and are  within the cloud mask value range specified\n",
    "# in all_masked_values above to NAN or not a number (masked data)\n",
    "landsat_pre_cl_free = landsat_pre.where(~landsat_qa.isin(all_masked_values))\n",
    "\n",
    "# When you mask the data notice that the pixels  with clouds are replaced with no data  values\n",
    "ep.plot_bands(landsat_pre_cl_free,\n",
    "             figsize=(10,5))\n",
    "\n",
    "plt.show()"
   ]
  },
  {
   "cell_type": "markdown",
   "metadata": {},
   "source": [
    "Alternatively, you can directly input your mask values and the pixel QA layer into the `mask_pixels` function. This is the easiest way to mask your data! Again, this function only takes numpy arrays, so make sure to call `.values` on all of your xarray DataArrays that you are using as inputs into that function."
   ]
  },
  {
   "cell_type": "code",
   "execution_count": null,
   "metadata": {},
   "outputs": [],
   "source": [
    "# Call the earthpy mask function using pixel QA layer\n",
    "landsat_pre_cl_free = landsat_pre.where(~cl_mask)"
   ]
  },
  {
   "cell_type": "code",
   "execution_count": null,
   "metadata": {
    "caption": "CIR Composite image in grey scale with mask applied, covering the post-Cold Springs fire area on July 8, 2016."
   },
   "outputs": [],
   "source": [
    "# Plot the data - notice that the data are not masked where the cloud covered pixels were\n",
    "ep.plot_bands(landsat_pre_cl_free,\n",
    "              cbar=False,\n",
    "             figsize=(10,6),\n",
    "             cols=2)\n",
    "plt.show()"
   ]
  },
  {
   "cell_type": "markdown",
   "metadata": {},
   "source": [
    "## The Code Below is Extra In Case You Want to Plot The  Data\n",
    "You don't need this code for your homework!!\n",
    "\n",
    "Below you can see how to cleanup the masked data for plotting."
   ]
  },
  {
   "cell_type": "code",
   "execution_count": null,
   "metadata": {
    "caption": "CIR Composite image with cloud mask applied, covering the post-Cold Springs fire area on July 8, 2016."
   },
   "outputs": [],
   "source": [
    "# Plot data\n",
    "# Fix to plot xarray with plot_rgb\n",
    "landsat_pre_cl_free_plot = ma.masked_array(landsat_pre_cl_free.values, \n",
    "                                           landsat_pre_cl_free.isnull())\n",
    "\n",
    "# Plot\n",
    "ep.plot_rgb(landsat_pre_cl_free_plot,\n",
    "            rgb=[3, 2, 1],\n",
    "            title=\"Landsat CIR Composite Image | 30 meters \\n Post Cold Springs Fire \\n July 8, 2016\")\n",
    "plt.show()"
   ]
  }
 ],
 "metadata": {
  "celltoolbar": "Edit Metadata",
  "kernelspec": {
   "display_name": "Python 3",
   "language": "python",
   "name": "python3"
  },
  "language_info": {
   "codemirror_mode": {
    "name": "ipython",
    "version": 3
   },
   "file_extension": ".py",
   "mimetype": "text/x-python",
   "name": "python",
   "nbconvert_exporter": "python",
   "pygments_lexer": "ipython3",
   "version": "3.8.6"
  },
  "toc": {
   "base_numbering": 1,
   "nav_menu": {},
   "number_sections": true,
   "sideBar": true,
   "skip_h1_title": false,
   "title_cell": "Table of Contents",
   "title_sidebar": "Contents",
   "toc_cell": false,
   "toc_position": {},
   "toc_section_display": true,
   "toc_window_display": true
  },
  "varInspector": {
   "cols": {
    "lenName": 16,
    "lenType": 16,
    "lenVar": 40
   },
   "kernels_config": {
    "python": {
     "delete_cmd_postfix": "",
     "delete_cmd_prefix": "del ",
     "library": "var_list.py",
     "varRefreshCmd": "print(var_dic_list())"
    },
    "r": {
     "delete_cmd_postfix": ") ",
     "delete_cmd_prefix": "rm(",
     "library": "var_list.r",
     "varRefreshCmd": "cat(var_dic_list()) "
    }
   },
   "types_to_exclude": [
    "module",
    "function",
    "builtin_function_or_method",
    "instance",
    "_Feature"
   ],
   "window_display": false
  }
 },
 "nbformat": 4,
 "nbformat_minor": 2
}
